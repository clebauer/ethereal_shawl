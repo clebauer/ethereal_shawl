{
 "cells": [
  {
   "cell_type": "code",
   "execution_count": 2,
   "metadata": {},
   "outputs": [
    {
     "name": "stdout",
     "output_type": "stream",
     "text": [
      "If you've completed row 96 (with 9 intended repeats),\n",
      "you've knitted 8688 stitches, \n",
      "you're 14.59% completed with the project,\n",
      "and you have 127 more rows to go with 50865 stitches!\n",
      "(At 4 seconds per st, you've spent 579 min and have 3391 min to go.)\n",
      "\n",
      "Oh, and your next row only has 199 stitches. You got this!\n"
     ]
    }
   ],
   "source": [
    "import pandas as pd\n",
    "# https://www.ravelry.com/patterns/library/ethereal-3\n",
    "# Program made by clebauer\n",
    "\n",
    "repeat_num = 4\n",
    "row_num = 40\n",
    "num_repeats = 9\n",
    "sec_per_150_st = 10 * 60\n",
    "time_per_st = sec_per_150_st/150\n",
    "\n",
    "# lets calculate what row you're ACTUALLY on\n",
    "row_im_on = 14 * repeat_num + row_num if repeat_num > 0 else row_num #OR lol 42+(14*(repeat_num-1))+(row_num-28) if repeat_num > 0 else row_num\n",
    "\n",
    "# Manual Data Input\n",
    "# all even rows are purled, so duplicate the row before.\n",
    "# intro, odd rows, done once\n",
    "chart1 = [7, 11, 15, 19, 23, 27, 31, 31, 35, 39, 43, 47, 51, 59, 55, 59, 63, 67, 71, 75, 87]\n",
    "\n",
    "# chart 1 repeats, these are the counts of the odd rows for the first two repeats.\n",
    "# all repeats going forward increment with j-i for i,j in chart1_1, chart1_2\n",
    "chart1_1 = [79,83,87,91,95,99,115]\n",
    "chart1_2 = [103,107,111,115,119,123,143]\n",
    "\n",
    "# chart 2, these are the counts of the odd rows for the first two EXAMPLES of chart 2\n",
    "# here, we only need the row numbers *for the nth repeat*, but we need the first two to get\n",
    "# the amount to increment by to get there.\n",
    "chart2_1 = [127,131,135,139,143,147,171,195,219,249,267,291,315,317,319,321,323,325,327,329,331,333,335,337,339,341,367]\n",
    "chart2_2 = [151,155,159,163,167,171,199,227,255,283,311,339,367,369,371,373,375,377,379,381,383,385,387,389,397,393,423]\n",
    "\n",
    "# Calculate chart_diffs\n",
    "chart1_diff = [j-i for i, j in zip(chart1_1, chart1_2)] \n",
    "chart2_diff = [j-i for i, j in zip(chart2_1, chart2_2)] \n",
    "\n",
    "# For now, 'manually' calculate stitch counts for chart 1 repeats\n",
    "chart_1_use = chart1 + chart1_1\n",
    "chart_to_add = chart1_1\n",
    "\n",
    "for i in range(num_repeats-1):\n",
    "    chart_to_add = [i+j for i,j in zip(chart_to_add,chart1_diff)]\n",
    "    chart_1_use += chart_to_add\n",
    "\n",
    "# calculate chart 2 stitch count\n",
    "chart_2_use = [i+(j*(num_repeats-1)) for i,j in zip(chart2_1, chart2_diff)]\n",
    "\n",
    "# place all rows together\n",
    "charts = chart_1_use + chart_2_use\n",
    "charts_use = [val for val in charts for _ in (0, 1)] + [max(chart_2_use)]\n",
    "\n",
    "# calculations\n",
    "total = sum(charts_use)\n",
    "total_stitches = sum(charts_use[0:row_im_on])\n",
    "rows_left = len(charts_use) - row_im_on\n",
    "stitches_left = total - total_stitches\n",
    "percent_done = round(total_stitches*100.0 / total, 2)\n",
    "min_done = (total_stitches * time_per_st)/60\n",
    "min_left = (stitches_left * time_per_st)/60\n",
    "\n",
    "print '''If you've completed row {} (with {} intended repeats),\n",
    "you've knitted {} stitches, \n",
    "you're {}% completed with the project,\n",
    "and you have {} more rows to go with {} stitches!\n",
    "(At {} seconds per st, you've spent {} min and have {} min to go.)\n",
    "\n",
    "Oh, and your next row only has {} stitches. You got this!'''.format(row_im_on,\n",
    "                                                                    num_repeats,\n",
    "                                                                    total_stitches,\n",
    "                                                                    percent_done,\n",
    "                                                                    rows_left,\n",
    "                                                                    stitches_left,\n",
    "                                                                    time_per_st,\n",
    "                                                                    min_done,\n",
    "                                                                    min_left,\n",
    "                                                                    charts_use[row_im_on],\n",
    "                                                                    )"
   ]
  },
  {
   "cell_type": "code",
   "execution_count": null,
   "metadata": {},
   "outputs": [],
   "source": [
    "sup = [round(sum(charts_use[:y])*100.0/sum(charts_use),2) for y in range(1,len(charts_use))]\n",
    "steps = [(((new_row - 43) / 14) + 1, ((new_row - 43)%14) + 29) for new_row in range(1,len(charts_use))]\n",
    "rows_and_data = zip(steps, range(1,len(charts_use)),charts_use, sup)"
   ]
  },
  {
   "cell_type": "code",
   "execution_count": null,
   "metadata": {},
   "outputs": [],
   "source": [
    "rows_and_data"
   ]
  },
  {
   "cell_type": "code",
   "execution_count": null,
   "metadata": {},
   "outputs": [],
   "source": []
  }
 ],
 "metadata": {
  "kernelspec": {
   "display_name": "Python 2",
   "language": "python",
   "name": "python2"
  },
  "language_info": {
   "codemirror_mode": {
    "name": "ipython",
    "version": 2
   },
   "file_extension": ".py",
   "mimetype": "text/x-python",
   "name": "python",
   "nbconvert_exporter": "python",
   "pygments_lexer": "ipython2",
   "version": "2.7.10"
  }
 },
 "nbformat": 4,
 "nbformat_minor": 2
}
