{
 "cells": [
  {
   "cell_type": "code",
   "execution_count": 1,
   "metadata": {},
   "outputs": [],
   "source": [
    "# https://www.ravelry.com/patterns/library/ethereal-3\n",
    "# Program made by clebauer"
   ]
  },
  {
   "cell_type": "code",
   "execution_count": 2,
   "metadata": {},
   "outputs": [],
   "source": [
    "repeat_num = 2\n",
    "row_num = 39\n",
    "num_repeats = 9"
   ]
  },
  {
   "cell_type": "code",
   "execution_count": 3,
   "metadata": {},
   "outputs": [],
   "source": [
    "# lets calculate what row you're ACTUALLY on\n",
    "row_im_on = 42+(14*(repeat_num-1))+(row_num-28) if repeat_num > 0 else row_num"
   ]
  },
  {
   "cell_type": "code",
   "execution_count": 4,
   "metadata": {},
   "outputs": [],
   "source": [
    "# Manual Data Input\n",
    "# all even rows are purled, so duplicate the row before.\n",
    "# intro, odd rows, done once\n",
    "chart1 = [7, 11, 15, 19, 23, 27, 31, 31, 35, 39, 43, 47, 51, 59, 55, 59, 63, 67, 71, 75, 87]"
   ]
  },
  {
   "cell_type": "code",
   "execution_count": 5,
   "metadata": {},
   "outputs": [],
   "source": [
    "# chart 1 repeats, these are the counts of the odd rows for the first two repeats.\n",
    "# all repeats going forward increment with j-i for i,j in chart1_1, chart1_2\n",
    "chart1_1 = [79,83,87,91,95,99,115]\n",
    "chart1_2 = [103,107,111,115,119,123,143]"
   ]
  },
  {
   "cell_type": "code",
   "execution_count": 6,
   "metadata": {},
   "outputs": [],
   "source": [
    "# chart 2, these are the counts of the odd rows for the first two EXAMPLES of chart 2\n",
    "# here, we only need the row numbers *for the nth repeat*, but we need the first two to get\n",
    "# the amount to increment by to get there.\n",
    "chart2_1 = [127,131,135,139,143,147,171,195,219,249,267,291,315,317,319,321,323,325,327,329,331,333,335,337,339,341,367]\n",
    "chart2_2 = [151,155,159,163,167,171,199,227,255,283,311,339,367,369,371,373,375,377,379,381,383,385,387,389,397,393,423]"
   ]
  },
  {
   "cell_type": "code",
   "execution_count": 7,
   "metadata": {},
   "outputs": [],
   "source": [
    "# Calculate chart_diffs\n",
    "chart1_diff = [j-i for i, j in zip(chart1_1, chart1_2)] \n",
    "chart2_diff = [j-i for i, j in zip(chart2_1, chart2_2)] "
   ]
  },
  {
   "cell_type": "code",
   "execution_count": 8,
   "metadata": {},
   "outputs": [],
   "source": [
    "# For now, 'manually' calculate stitch counts for chart 1 repeats\n",
    "chart_1_use = chart1 + chart1_1\n",
    "chart_to_add = chart1_1\n",
    "\n",
    "for i in range(num_repeats-1):\n",
    "    chart_to_add = [i+j for i,j in zip(chart_to_add,chart1_diff)]\n",
    "    chart_1_use += chart_to_add"
   ]
  },
  {
   "cell_type": "code",
   "execution_count": 9,
   "metadata": {},
   "outputs": [],
   "source": [
    "# calculate chart 2 stitch count\n",
    "chart_2_use = [i+(j*(num_repeats-1)) for i,j in zip(chart2_1, chart2_diff)]"
   ]
  },
  {
   "cell_type": "code",
   "execution_count": 10,
   "metadata": {},
   "outputs": [],
   "source": [
    "# place all rows together\n",
    "charts = chart_1_use + chart_2_use\n",
    "\n",
    "charts_use = [val for val in charts for _ in (0, 1)] + [max(chart_2_use)]"
   ]
  },
  {
   "cell_type": "code",
   "execution_count": 11,
   "metadata": {},
   "outputs": [],
   "source": [
    "total = sum(charts_use)\n",
    "total_stitches = sum(charts_use[0:row_im_on])\n",
    "rows_left = len(charts_use) - row_im_on\n",
    "stitches_left = total - total_stitches\n",
    "percent_done = round(total_stitches*100.0 / total, 2)"
   ]
  },
  {
   "cell_type": "code",
   "execution_count": 14,
   "metadata": {},
   "outputs": [
    {
     "name": "stdout",
     "output_type": "stream",
     "text": [
      "If you're on row 67 (with 9 intended repeats),\n",
      "you've knitted 4361 stitches, \n",
      "you're 7.32% completed with the project,\n",
      "and you have 156 more rows to go with 55192 stitches!\n",
      "\n",
      "Oh, and your next row only has 123 stitches. You got this!\n"
     ]
    }
   ],
   "source": [
    "print '''If you're on row {} (with {} intended repeats),\n",
    "you've knitted {} stitches, \n",
    "you're {}% completed with the project,\n",
    "and you have {} more rows to go with {} stitches!\n",
    "\n",
    "Oh, and your next row only has {} stitches. You got this!'''.format(row_im_on,\n",
    "                                                                    num_repeats,\n",
    "                                                                    total_stitches,\n",
    "                                                                    percent_done,\n",
    "                                                                    rows_left,\n",
    "                                                                    stitches_left,\n",
    "                                                                    charts_use[row_im_on])"
   ]
  },
  {
   "cell_type": "code",
   "execution_count": null,
   "metadata": {},
   "outputs": [],
   "source": []
  }
 ],
 "metadata": {
  "kernelspec": {
   "display_name": "Python 2",
   "language": "python",
   "name": "python2"
  },
  "language_info": {
   "codemirror_mode": {
    "name": "ipython",
    "version": 2
   },
   "file_extension": ".py",
   "mimetype": "text/x-python",
   "name": "python",
   "nbconvert_exporter": "python",
   "pygments_lexer": "ipython2",
   "version": "2.7.10"
  }
 },
 "nbformat": 4,
 "nbformat_minor": 2
}
